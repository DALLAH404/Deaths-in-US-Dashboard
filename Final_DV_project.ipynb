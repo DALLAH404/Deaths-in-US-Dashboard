{
 "cells": [
  {
   "cell_type": "code",
   "execution_count": 1,
   "metadata": {},
   "outputs": [],
   "source": [
    "import numpy as np\n",
    "import pandas as pd\n",
    "import seaborn as sns\n",
    "import matplotlib.pyplot as plt\n",
    "import datetime\n",
    "import plotly.express as px\n",
    "import plotly.graph_objects as go\n",
    "from dash import Dash, dcc, html, Input, Output\n",
    "import dash\n",
    "from dash import dcc\n",
    "from dash import html\n",
    "from dash.dependencies import Output, Input ,State\n",
    "import plotly.express as px\n",
    "import dash_bootstrap_components as dbc\n",
    "import plotly.graph_objects as go\n",
    "from dash import dash_table\n",
    "from jupyter_dash import JupyterDash"
   ]
  },
  {
   "cell_type": "code",
   "execution_count": 2,
   "metadata": {},
   "outputs": [],
   "source": [
    "df = pd.read_csv('G:/DV/Data/final_data.csv')"
   ]
  },
  {
   "cell_type": "code",
   "execution_count": 3,
   "metadata": {},
   "outputs": [],
   "source": [
    "df.replace({'manner_of_death':{np.nan:9.0}},inplace=True)"
   ]
  },
  {
   "cell_type": "code",
   "execution_count": 4,
   "metadata": {},
   "outputs": [],
   "source": [
    "df.replace({'manner_of_death':{np.nan:9.0}},inplace=True)"
   ]
  },
  {
   "cell_type": "code",
   "execution_count": 5,
   "metadata": {},
   "outputs": [],
   "source": [
    "df.replace({'marital_status':{'W':'Widow','M':'Married','S':'Single','D':'Divorced','U':'Unknown'}},inplace=True)"
   ]
  },
  {
   "cell_type": "code",
   "execution_count": 6,
   "metadata": {},
   "outputs": [],
   "source": [
    "df.replace({'race':{5:4,6:4,7:4,18:4,28:4,48:4,58:38,68:4,48:4,58:38,68:38,78:38}},inplace=True)"
   ]
  },
  {
   "cell_type": "code",
   "execution_count": 7,
   "metadata": {},
   "outputs": [],
   "source": [
    "df.replace({'sex':{'M':'Male','F':'Female'}},inplace=True)"
   ]
  },
  {
   "cell_type": "code",
   "execution_count": 8,
   "metadata": {},
   "outputs": [],
   "source": [
    "df.replace({'age_recode_12':{1:'Under 1 year',2:'1 - 4 years',3:'5 - 14 years',4:'15 - 24 years ',5:'25 - 34 years',6:'35 - 44 years',7:'45 - 54 years',8:'55 - 64 years',9:'65 - 74 years',10:'75 - 84 years',11:'85 years and over',12:'Age not stated'}},inplace=True)"
   ]
  },
  {
   "cell_type": "code",
   "execution_count": 9,
   "metadata": {},
   "outputs": [],
   "source": [
    "s1 = df[df['sex']=='Male']\n",
    "s2 = df[df['sex']=='Female']"
   ]
  },
  {
   "cell_type": "code",
   "execution_count": 10,
   "metadata": {},
   "outputs": [],
   "source": [
    "marital_status_options = []\n",
    "for kind in df['marital_status'].unique():\n",
    "    marital_status_options.append({'label': kind, 'value': kind})"
   ]
  },
  {
   "cell_type": "code",
   "execution_count": 11,
   "metadata": {},
   "outputs": [],
   "source": [
    "df_temp = df[(df['manner_of_death'] == 2) | (df['manner_of_death'] == 3)]\n",
    "df_mann_race = pd.DataFrame(df_temp[['race','manner_of_death']].value_counts())\n",
    "df_mann_race.reset_index(inplace=True)\n",
    "df_mann_race.rename(columns={0:'Count'},inplace=True)\n"
   ]
  },
  {
   "cell_type": "code",
   "execution_count": 12,
   "metadata": {},
   "outputs": [],
   "source": [
    "df_mann_race.replace({'race':{1:'White',2:'Black',3:'American Indian',4:'Asian',38:'Pacific Islander'},'manner_of_death':{2:'Suicide',3:'Homicide'}},inplace=True)"
   ]
  },
  {
   "cell_type": "code",
   "execution_count": 13,
   "metadata": {},
   "outputs": [],
   "source": [
    "df_mann_race = df_mann_race[df_mann_race['race'].isin(['White','Black'])]"
   ]
  },
  {
   "cell_type": "code",
   "execution_count": 14,
   "metadata": {},
   "outputs": [],
   "source": [
    "fig4 = px.bar(df_mann_race,x='race',y='Count',color='manner_of_death',barmode='group', width=290, height=235,\n",
    "            \n",
    "             labels={\n",
    "                     \"manner_of_death\": \"Manner of Death\"\n",
    "                 },)\n",
    "fig4.update_layout(xaxis_title = 'Race', yaxis_title='count',\n",
    "                    #showlegend = False,\n",
    "                    legend=dict(\n",
    "                    yanchor=\"top\",\n",
    "                    y=0.9,\n",
    "                    xanchor=\"left\",\n",
    "                    x=0.32\n",
    "                ),\n",
    "                 margin=dict(l=20, r=20, t=60, b=20),\n",
    "                           title={\n",
    "        'text': \"Race vs Manner of Death\",\n",
    "        'y':0.96,\n",
    "        'x':0.5,\n",
    "        'xanchor': 'center',\n",
    "        'yanchor': 'top'},\n",
    "                  template = 'plotly_dark',\n",
    "        paper_bgcolor = 'rgba(0,0,0,0)',\n",
    "        plot_bgcolor = 'rgba(0,0,0,0)')\n",
    "graph_4 = dcc.Graph(figure=fig4,style={'height':200,'width':300,\n",
    "                                 'margin-left':'5px','margin-right':'10px',\n",
    "                               'margin-top':'10px','%%markdowngin-bottom':'0px'})"
   ]
  },
  {
   "cell_type": "code",
   "execution_count": 15,
   "metadata": {},
   "outputs": [
    {
     "name": "stderr",
     "output_type": "stream",
     "text": [
      "C:\\Users\\Dallah\\AppData\\Roaming\\Python\\Python38\\site-packages\\pandas\\core\\indexing.py:1773: SettingWithCopyWarning:\n",
      "\n",
      "\n",
      "A value is trying to be set on a copy of a slice from a DataFrame.\n",
      "Try using .loc[row_indexer,col_indexer] = value instead\n",
      "\n",
      "See the caveats in the documentation: https://pandas.pydata.org/pandas-docs/stable/user_guide/indexing.html#returning-a-view-versus-a-copy\n",
      "\n"
     ]
    }
   ],
   "source": [
    "df_temp = df[(df['method_of_disposition'] == 'B') | (df['method_of_disposition']=='C')]\n",
    "df_temp.replace({'race':{1:'White',2:'Black',3:'American Indian',4:'Asian',38:'Pacific Islander'}},inplace=True)"
   ]
  },
  {
   "cell_type": "code",
   "execution_count": 16,
   "metadata": {},
   "outputs": [],
   "source": [
    "df_race_dispo = pd.DataFrame(df_temp[['race','method_of_disposition']].value_counts())\n",
    "df_race_dispo.reset_index(inplace=True)\n",
    "df_race_dispo.rename(columns={0:'Count'},inplace=True)\n",
    "df_race_dispo.replace({'method_of_disposition':{'B':'Burial','C':'Cremation'}},inplace=True)"
   ]
  },
  {
   "cell_type": "code",
   "execution_count": 17,
   "metadata": {},
   "outputs": [],
   "source": [
    "df_race_dispo = df_race_dispo[df_race_dispo['race'].isin(['White','Black'])]\n"
   ]
  },
  {
   "cell_type": "code",
   "execution_count": 18,
   "metadata": {},
   "outputs": [],
   "source": [
    "fig2 = px.bar(df_race_dispo,x='race',y='Count',color='method_of_disposition',barmode='group',\n",
    "            labels={\n",
    "                     \"method_of_disposition\": \"Method of disposition\"\n",
    "                 },)\n",
    "fig2.update_layout(xaxis_title = 'Race', yaxis_title='count',\n",
    "                    #showlegend = False,\n",
    "                   \n",
    "    \n",
    "                    legend=dict(\n",
    "                    yanchor=\"top\",\n",
    "                    y=1,\n",
    "                    xanchor=\"left\",\n",
    "                    x=1\n",
    "                ),\n",
    "                 margin=dict(l=20, r=20, t=60, b=20),\n",
    "                           title={\n",
    "        'text': \"Race vs Method of disposition\",\n",
    "        'y':0.96,\n",
    "        'x':0.5,\n",
    "        'xanchor': 'center',\n",
    "        'yanchor': 'top'},\n",
    "        template = 'plotly_dark',\n",
    "        paper_bgcolor = 'rgba(0,0,0,0)',\n",
    "        plot_bgcolor = 'rgba(0,0,0,0)')\n",
    "graph_2 = dcc.Graph(figure=fig2,style={'height':237,'width':600,\n",
    "                                 'margin-left':'20px','margin-right':'20px',\n",
    "                               'margin-top':'10px','%%markdowngin-bottom':'0px'})\n"
   ]
  },
  {
   "cell_type": "code",
   "execution_count": 19,
   "metadata": {},
   "outputs": [],
   "source": [
    "months_choices = []\n",
    "for i in range(1,13):\n",
    "    months_choices.append(datetime.date(2008, i, 1).strftime('%B'))"
   ]
  },
  {
   "cell_type": "code",
   "execution_count": 20,
   "metadata": {},
   "outputs": [],
   "source": [
    "number_death_2005 = []\n",
    "for i in range(1,13):\n",
    "    number_death_2005.append(len(df[np.logical_and(df['current_data_year'] == 2005,df['month_of_death']==i)]))"
   ]
  },
  {
   "cell_type": "code",
   "execution_count": 21,
   "metadata": {},
   "outputs": [],
   "source": [
    "number_death_2006 = []\n",
    "for i in range(1,13):\n",
    "    number_death_2006.append(len(df[np.logical_and(df['current_data_year'] == 2006,df['month_of_death']==i)]))"
   ]
  },
  {
   "cell_type": "code",
   "execution_count": 22,
   "metadata": {},
   "outputs": [],
   "source": [
    "number_death_2007 = []\n",
    "for i in range(1,13):\n",
    "    number_death_2007.append(len(df[np.logical_and(df['current_data_year'] == 2007,df['month_of_death']==i)]))"
   ]
  },
  {
   "cell_type": "code",
   "execution_count": 23,
   "metadata": {},
   "outputs": [],
   "source": [
    "number_death_2008 = []\n",
    "for i in range(1,13):\n",
    "    number_death_2008.append(len(df[np.logical_and(df['current_data_year'] == 2008,df['month_of_death']==i)]))"
   ]
  },
  {
   "cell_type": "code",
   "execution_count": 24,
   "metadata": {},
   "outputs": [],
   "source": [
    "fig = go.Figure()\n",
    "fig.add_trace(go.Scatter(x=months_choices, y=number_death_2005, name=\"2005\", mode=\"lines\"))\n",
    "fig.add_trace(go.Scatter(x=months_choices, y=number_death_2006, name=\"2006\", mode=\"lines\"))\n",
    "fig.add_trace(go.Scatter(x=months_choices, y=number_death_2007, name=\"2007\", mode=\"lines\"))\n",
    "fig.add_trace(go.Scatter(x=months_choices, y=number_death_2008, name=\"2008\", mode=\"lines\"))\n",
    "fig.update_layout( xaxis_title=\"Month\", yaxis_title=\"count\",\n",
    "                 \n",
    "    title={'text':\"Dead in Every Month\",'y':0.96,\n",
    "        'x':0.5,\n",
    "        'xanchor': 'center',\n",
    "        'yanchor': 'top'},\n",
    "        template = 'plotly_dark',\n",
    "        paper_bgcolor = 'rgba(0,0,0,0)',\n",
    "        plot_bgcolor = 'rgba(0,0,0,0)'\n",
    "                  \n",
    ")\n",
    "graph_3 = dcc.Graph(figure=fig,style={'height':333,'width':630,\n",
    "                                 'margin-left':'20px','margin-right':'20px',\n",
    "                               'margin-top':'10px','%%markdowngin-bottom':'0px','paper_bgcolor':\"aliceblue\",})\n"
   ]
  },
  {
   "cell_type": "code",
   "execution_count": 25,
   "metadata": {},
   "outputs": [],
   "source": [
    "df_deases = pd.DataFrame(df['icd_code_10th_revision'].value_counts())\n",
    "df_deases.reset_index(inplace=True)\n",
    "df_deases.rename(columns={'index':'Disease'},inplace=True)\n",
    "df_deases = df_deases[:10]\n",
    "df_deases.replace({'Disease':{'I251':'Atherosclerotic heart','C349':'Malignant neoplasm of lung','I219':'Acute myocardial infarction','J449':'Chronic obstructive pulmonary','G309':\"Alzheimer's disease\",'I64':'Stroke','F03':'Unspecified dementia','I250':'Atherosclerotic cardiovascular','I500':'Heart failure ','J189':'Pneumonia'}},inplace=True)"
   ]
  },
  {
   "cell_type": "code",
   "execution_count": 26,
   "metadata": {},
   "outputs": [],
   "source": [
    "fig5 = px.pie(df_deases,names='Disease',values='icd_code_10th_revision',title='Number of death by Disease', width=300, height=233,\n",
    "             color_discrete_sequence=px.colors.sequential.RdBu)\n",
    "fig5.update_layout(title={\n",
    "        'text': \"The Top 10 Deadliest Diseases\",\n",
    "        'y':0.96,\n",
    "        'x':0.5,\n",
    "        'xanchor': 'center',\n",
    "        'yanchor': 'top'},\n",
    "                   showlegend = False,\n",
    "                   template = 'plotly_dark',\n",
    "        paper_bgcolor = 'rgba(0,0,0,0)',\n",
    "        plot_bgcolor = 'rgba(0,0,0,0)',\n",
    "                  margin=dict(l=10, r=20, t=30, b=0))\n",
    "fig5.update_traces(textposition='inside')\n",
    "fig5.update_layout(uniformtext_minsize=12, uniformtext_mode='hide')\n",
    "\n",
    "graph_5 = dcc.Graph(figure=fig5,style={'margin-top':'10px','margin-left':'18px'})"
   ]
  },
  {
   "cell_type": "code",
   "execution_count": null,
   "metadata": {},
   "outputs": [],
   "source": []
  },
  {
   "cell_type": "code",
   "execution_count": null,
   "metadata": {},
   "outputs": [],
   "source": []
  },
  {
   "cell_type": "code",
   "execution_count": 27,
   "metadata": {},
   "outputs": [],
   "source": [
    "app = JupyterDash(__name__, external_stylesheets=[dbc.themes.LUX])"
   ]
  },
  {
   "cell_type": "code",
   "execution_count": 28,
   "metadata": {},
   "outputs": [
    {
     "name": "stdout",
     "output_type": "stream",
     "text": [
      "Dash app running on http://127.0.0.1:8020/\n"
     ]
    }
   ],
   "source": [
    "app.layout =html.Div([\n",
    "        \n",
    "        dbc.Card([\n",
    "            html.H3('Death in the United States',\n",
    "                   style={'margin-top':'2vh',\n",
    "                         'color':'white',\n",
    "                         'textAlign':'center'}),\n",
    "            \n",
    "            \n",
    "            dbc.Row(\n",
    "            [\n",
    "                \n",
    "                \n",
    "              \n",
    "                dbc.Col(\n",
    "                    dcc.Graph(id='my-graph',\n",
    "                         style={'height':330,'width':600,\n",
    "                                 'margin-left':'20px','margin-right':'20px',\n",
    "                               'margin-top':'10px','margin-bottom':'0px'})),\n",
    "                dbc.Col(graph_3)\n",
    "                \n",
    "                \n",
    "                \n",
    "                \n",
    "                \n",
    "\n",
    "            ]),\n",
    "            \n",
    "            dbc.Row(\n",
    "            [\n",
    "                dcc.Dropdown(id='marital_status_picker',options=marital_status_options,\n",
    "                 value=df['marital_status'].min(),\n",
    "                             style={'width':600,\n",
    "                                 'margin-left':'10px','margin-right':'20px',\n",
    "                                   'margin-top':'1px','margin-bottom':'10px',\n",
    "                                   }),\n",
    "                 \n",
    "            ]),\n",
    "            dbc.Row([\n",
    "                \n",
    "                dbc.Col(graph_2),\n",
    "                dbc.Col(graph_5),\n",
    "                dbc.Col(graph_4),\n",
    "                \n",
    "            ]),\n",
    "        \n",
    "    \n",
    "    \n",
    "  \n",
    "            \n",
    "        ],color ='primary',style={'height': 710,'width': 1336,'margin-top':'1vh','margin-bottom':'0vh','lign':'center',\n",
    "                                                    'margin-left':'1vh','margin-right':'1vh','border': '0px solid black',\n",
    "                                                    'borderRadius': '40px',\n",
    "                                                    })\n",
    "    \n",
    "    \n",
    "    \n",
    "    \n",
    "],style={'backgroundColor': 'white'})\n",
    "\n",
    "@app.callback(\n",
    "    Output(\"my-graph\", \"figure\"),\n",
    "    [Input(\"marital_status_picker\", \"value\")],\n",
    ")\n",
    "def update_charts(Kind):\n",
    "    filtered_s1 = s1[s1[\"marital_status\"] == Kind]\n",
    "    filtered_s2 = s2[s2[\"marital_status\"] == Kind]\n",
    "    trace1 = go.Bar(\n",
    "        x=filtered_s1[\"age_recode_12\"].unique(),\n",
    "        y=filtered_s1['age_recode_12'].value_counts().values,\n",
    "        #y=filtered_s1.groupby(\"age_recode_12\")[\"Total\"].agg(sum),\n",
    "        #text=filtered_s1.groupby(\"Location\")[\"Total\"].agg(sum),\n",
    "        textposition=\"outside\",\n",
    "        marker_color=px.colors.qualitative.Dark24[0],\n",
    "        name=\"Male\",\n",
    "    )\n",
    "    trace2 = go.Bar(\n",
    "        x=filtered_s2[\"age_recode_12\"].unique(),\n",
    "        y=filtered_s2['age_recode_12'].value_counts().values,\n",
    "        \n",
    "        #y=filtered_s2.groupby(\"Location\")[\"Total\"].agg(sum),\n",
    "        #text=filtered_s2.groupby(\"Location\")[\"Total\"].agg(sum),\n",
    "        textposition=\"outside\",\n",
    "        marker_color=px.colors.qualitative.Dark24[1],\n",
    "        name=\"Female\",\n",
    "    )\n",
    "    data = [trace1, trace2]\n",
    "    layout = go.Layout(barmode=\"group\", title='Number of dead people regarding age ranges')\n",
    "    bibar = go.Figure(data=data, layout=layout)\n",
    "    bibar.update_layout(\n",
    "        title=dict(x=0.5),\n",
    "        xaxis_title=\"Age Ranges\",\n",
    "        yaxis_title=\"Total\",\n",
    "        template = 'plotly_dark',\n",
    "        paper_bgcolor = 'rgba(0,0,0,0)',\n",
    "        plot_bgcolor = 'rgba(0,0,0,0)',\n",
    "        margin=dict(l=20, r=20, t=60, b=20),\n",
    "    )\n",
    "    return bibar\n",
    "\n",
    "if __name__ == '__main__':\n",
    "    app.run_server(port=8020)"
   ]
  },
  {
   "cell_type": "code",
   "execution_count": null,
   "metadata": {},
   "outputs": [],
   "source": []
  },
  {
   "cell_type": "code",
   "execution_count": null,
   "metadata": {},
   "outputs": [],
   "source": []
  }
 ],
 "metadata": {
  "kernelspec": {
   "display_name": "Python 3",
   "language": "python",
   "name": "python3"
  },
  "language_info": {
   "codemirror_mode": {
    "name": "ipython",
    "version": 3
   },
   "file_extension": ".py",
   "mimetype": "text/x-python",
   "name": "python",
   "nbconvert_exporter": "python",
   "pygments_lexer": "ipython3",
   "version": "3.8.5"
  }
 },
 "nbformat": 4,
 "nbformat_minor": 4
}
